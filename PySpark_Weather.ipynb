{
 "cells": [
  {
   "cell_type": "code",
   "execution_count": 1,
   "id": "5a1b9eac-89c4-401b-a2d1-b86a06478992",
   "metadata": {
    "execution": {
     "iopub.execute_input": "2024-07-14T03:14:13.402760Z",
     "iopub.status.busy": "2024-07-14T03:14:13.402760Z",
     "iopub.status.idle": "2024-07-14T03:14:27.654304Z",
     "shell.execute_reply": "2024-07-14T03:14:27.651694Z",
     "shell.execute_reply.started": "2024-07-14T03:14:13.402760Z"
    }
   },
   "outputs": [
    {
     "data": {
      "text/html": [
       "\n",
       "            <div>\n",
       "                <p><b>SparkSession - in-memory</b></p>\n",
       "                \n",
       "        <div>\n",
       "            <p><b>SparkContext</b></p>\n",
       "\n",
       "            <p><a href=\"http://ZyNIX:4040\">Spark UI</a></p>\n",
       "\n",
       "            <dl>\n",
       "              <dt>Version</dt>\n",
       "                <dd><code>v3.5.1</code></dd>\n",
       "              <dt>Master</dt>\n",
       "                <dd><code>local</code></dd>\n",
       "              <dt>AppName</dt>\n",
       "                <dd><code>PostgreSQL Connector</code></dd>\n",
       "            </dl>\n",
       "        </div>\n",
       "        \n",
       "            </div>\n",
       "        "
      ],
      "text/plain": [
       "<pyspark.sql.session.SparkSession at 0x2117ed8df50>"
      ]
     },
     "execution_count": 1,
     "metadata": {},
     "output_type": "execute_result"
    }
   ],
   "source": [
    "from pyspark.sql import SparkSession\n",
    "\n",
    "# Specify the absolute path to the JDBC driver\n",
    "jdbc_driver_path = \"jars/postgresql-42.7.3.jar\"\n",
    "\n",
    "# Create Spark session with the JDBC driver included\n",
    "spark = SparkSession.builder \\\n",
    "    .appName(\"PostgreSQL Connector\") \\\n",
    "    .master(\"local\") \\\n",
    "    .config(\"spark.driver.extraClassPath\", jdbc_driver_path) \\\n",
    "    .config(\"spark.jars\", jdbc_driver_path) \\\n",
    "    .config(\"spark.sql.catalogImplementation\", \"in-memory\") \\\n",
    "    .getOrCreate()\n",
    "\n",
    "# Verify the Spark session\n",
    "spark"
   ]
  },
  {
   "cell_type": "code",
   "execution_count": 2,
   "id": "634c73fc-dd52-4cf9-9675-3f8fbf1d0af6",
   "metadata": {
    "execution": {
     "iopub.execute_input": "2024-07-14T03:15:23.608249Z",
     "iopub.status.busy": "2024-07-14T03:15:23.608249Z",
     "iopub.status.idle": "2024-07-14T03:15:27.552358Z",
     "shell.execute_reply": "2024-07-14T03:15:27.552358Z",
     "shell.execute_reply.started": "2024-07-14T03:15:23.608249Z"
    }
   },
   "outputs": [],
   "source": [
    "# Define the connection properties and read the data from PostgreSQL\n",
    "df = spark.read.format(\"jdbc\") \\\n",
    "    .option(\"url\", \"jdbc:postgresql://localhost:5432/weather\") \\\n",
    "    .option(\"driver\", \"org.postgresql.Driver\") \\\n",
    "    .option(\"dbtable\", \"weather_data\") \\\n",
    "    .option(\"user\", \"postgres\") \\\n",
    "    .option(\"password\", \"sasql\") \\\n",
    "    .load()"
   ]
  },
  {
   "cell_type": "code",
   "execution_count": 3,
   "id": "0c1f18fd-a20d-4f4f-aa08-c66ce65f9e33",
   "metadata": {
    "execution": {
     "iopub.execute_input": "2024-07-14T03:15:32.506412Z",
     "iopub.status.busy": "2024-07-14T03:15:32.506412Z",
     "iopub.status.idle": "2024-07-14T03:15:32.533583Z",
     "shell.execute_reply": "2024-07-14T03:15:32.533583Z",
     "shell.execute_reply.started": "2024-07-14T03:15:32.506412Z"
    },
    "scrolled": true
   },
   "outputs": [
    {
     "name": "stdout",
     "output_type": "stream",
     "text": [
      "root\n",
      " |-- transaction_id: integer (nullable = true)\n",
      " |-- lon: double (nullable = true)\n",
      " |-- lat: double (nullable = true)\n",
      " |-- weather_id: integer (nullable = true)\n",
      " |-- weather_main: string (nullable = true)\n",
      " |-- weather_description: string (nullable = true)\n",
      " |-- weather_icon: string (nullable = true)\n",
      " |-- base: string (nullable = true)\n",
      " |-- temp: double (nullable = true)\n",
      " |-- feels_like: double (nullable = true)\n",
      " |-- pressure: integer (nullable = true)\n",
      " |-- humidity: integer (nullable = true)\n",
      " |-- temp_min: double (nullable = true)\n",
      " |-- temp_max: double (nullable = true)\n",
      " |-- sea_level: integer (nullable = true)\n",
      " |-- grnd_level: integer (nullable = true)\n",
      " |-- visibility: integer (nullable = true)\n",
      " |-- wind_speed: double (nullable = true)\n",
      " |-- wind_deg: integer (nullable = true)\n",
      " |-- wind_gust: double (nullable = true)\n",
      " |-- clouds_all: integer (nullable = true)\n",
      " |-- rain_1h: double (nullable = true)\n",
      " |-- rain_3h: double (nullable = true)\n",
      " |-- snow_1h: double (nullable = true)\n",
      " |-- snow_3h: double (nullable = true)\n",
      " |-- dt: integer (nullable = true)\n",
      " |-- sys_type: integer (nullable = true)\n",
      " |-- sys_id: integer (nullable = true)\n",
      " |-- sys_message: double (nullable = true)\n",
      " |-- sys_country: string (nullable = true)\n",
      " |-- sys_sunrise: integer (nullable = true)\n",
      " |-- sys_sunset: integer (nullable = true)\n",
      " |-- timezone: integer (nullable = true)\n",
      " |-- city_id: integer (nullable = true)\n",
      " |-- city_name: string (nullable = true)\n",
      " |-- cod: integer (nullable = true)\n",
      "\n"
     ]
    }
   ],
   "source": [
    "df.printSchema()"
   ]
  },
  {
   "cell_type": "code",
   "execution_count": 19,
   "id": "1a98c54c-f632-4812-91b2-25e36d124576",
   "metadata": {
    "execution": {
     "iopub.execute_input": "2024-07-14T04:15:39.609033Z",
     "iopub.status.busy": "2024-07-14T04:15:39.609033Z",
     "iopub.status.idle": "2024-07-14T04:15:39.621237Z",
     "shell.execute_reply": "2024-07-14T04:15:39.619330Z",
     "shell.execute_reply.started": "2024-07-14T04:15:39.609033Z"
    }
   },
   "outputs": [],
   "source": [
    "from pyspark.sql.functions import from_unixtime, date_format, col,round"
   ]
  },
  {
   "cell_type": "code",
   "execution_count": 26,
   "id": "a353c8c8-226a-4da6-9744-685232c12048",
   "metadata": {
    "execution": {
     "iopub.execute_input": "2024-07-14T04:19:10.097590Z",
     "iopub.status.busy": "2024-07-14T04:19:10.097590Z",
     "iopub.status.idle": "2024-07-14T04:19:10.379330Z",
     "shell.execute_reply": "2024-07-14T04:19:10.378503Z",
     "shell.execute_reply.started": "2024-07-14T04:19:10.097590Z"
    }
   },
   "outputs": [],
   "source": [
    "def kelvin_to_celsius(kelvin):\n",
    "    return round((kelvin - 273.15),2)\n",
    "\n",
    "df = df.withColumn(\"datetime\", date_format(from_unixtime(col(\"dt\")), \"yyyy-MM-dd HH:mm:ss\")) \\\n",
    "       .withColumn(\"temp_celsius\", kelvin_to_celsius(col(\"temp\"))) \\\n",
    "       .withColumn(\"temp_min_celsius\", kelvin_to_celsius(col(\"temp_min\"))) \\\n",
    "       .withColumn(\"temp_max_celsius\", kelvin_to_celsius(col(\"temp_max\"))) \\\n",
    "       .withColumn(\"feels_like_celsius\", kelvin_to_celsius(col(\"feels_like\"))) \\\n",
    "\n",
    "spark.catalog.dropTempView(\"weather_data\")\n",
    "df.createTempView(\"weather_data\")"
   ]
  },
  {
   "cell_type": "code",
   "execution_count": 28,
   "id": "09fdb10e-0e69-430d-8904-eb50bf8fa4dc",
   "metadata": {
    "execution": {
     "iopub.execute_input": "2024-07-14T04:19:55.668466Z",
     "iopub.status.busy": "2024-07-14T04:19:55.668466Z",
     "iopub.status.idle": "2024-07-14T04:19:55.708467Z",
     "shell.execute_reply": "2024-07-14T04:19:55.705951Z",
     "shell.execute_reply.started": "2024-07-14T04:19:55.668466Z"
    }
   },
   "outputs": [],
   "source": [
    "transaction_data = spark.sql(\"select transaction_id, weather_main, weather_description, temp_celsius, temp_min_celsius, \\\n",
    "            temp_max_celsius,feels_like_celsius, pressure, \\\n",
    "            humidity,  visibility, wind_speed, wind_deg, wind_gust, \\\n",
    "        \tclouds_all, rain_1h, rain_3h,datetime, city_name \\\n",
    "            from weather_data\")"
   ]
  },
  {
   "cell_type": "code",
   "execution_count": 29,
   "id": "a0c79e41-537a-4fd9-b481-2cc795818cc4",
   "metadata": {
    "execution": {
     "iopub.execute_input": "2024-07-14T04:20:02.140258Z",
     "iopub.status.busy": "2024-07-14T04:20:02.129160Z",
     "iopub.status.idle": "2024-07-14T04:20:02.475531Z",
     "shell.execute_reply": "2024-07-14T04:20:02.472995Z",
     "shell.execute_reply.started": "2024-07-14T04:20:02.140258Z"
    }
   },
   "outputs": [
    {
     "name": "stdout",
     "output_type": "stream",
     "text": [
      "+--------------+------------+-------------------+------------+----------------+----------------+------------------+--------+--------+----------+----------+--------+---------+----------+-------+-------+-------------------+----------+\n",
      "|transaction_id|weather_main|weather_description|temp_celsius|temp_min_celsius|temp_max_celsius|feels_like_celsius|pressure|humidity|visibility|wind_speed|wind_deg|wind_gust|clouds_all|rain_1h|rain_3h|           datetime| city_name|\n",
      "+--------------+------------+-------------------+------------+----------------+----------------+------------------+--------+--------+----------+----------+--------+---------+----------+-------+-------+-------------------+----------+\n",
      "|             1|      Clouds|      broken clouds|       32.61|           31.81|            33.1|             36.35|    1003|      53|     10000|      2.57|     200|     NULL|        75|   NULL|   NULL|2024-07-12 14:28:01|Chiang Mai|\n",
      "|             2|      Clouds|      broken clouds|       30.25|           30.25|           30.25|             36.72|    1002|      74|     10000|       3.6|     230|     NULL|        75|   NULL|   NULL|2024-07-12 14:29:34| Khon Kaen|\n",
      "|             3|      Clouds|    overcast clouds|       32.42|           32.18|            34.4|             39.42|    1005|      69|     10000|      4.47|     238|     6.68|       100|   NULL|   NULL|2024-07-12 14:29:35|   Bangrak|\n",
      "|             4|        Rain|         light rain|       27.79|           27.79|           28.08|             32.77|    1008|      88|     10000|      7.17|     286|     8.77|        85|   0.12|   NULL|2024-07-12 14:29:35| Talat Yai|\n",
      "|             5|      Clouds|      broken clouds|       32.61|           31.81|            33.1|             36.35|    1003|      53|     10000|      2.57|     200|     NULL|        75|   NULL|   NULL|2024-07-12 14:28:01|Chiang Mai|\n",
      "+--------------+------------+-------------------+------------+----------------+----------------+------------------+--------+--------+----------+----------+--------+---------+----------+-------+-------+-------------------+----------+\n",
      "only showing top 5 rows\n",
      "\n"
     ]
    }
   ],
   "source": [
    "transaction_data.show(5)"
   ]
  },
  {
   "cell_type": "code",
   "execution_count": 30,
   "id": "5443a616-1d1f-4de0-b2d7-2c9865179ebd",
   "metadata": {
    "execution": {
     "iopub.execute_input": "2024-07-14T04:22:57.603992Z",
     "iopub.status.busy": "2024-07-14T04:22:57.602195Z",
     "iopub.status.idle": "2024-07-14T04:22:57.847319Z",
     "shell.execute_reply": "2024-07-14T04:22:57.845765Z",
     "shell.execute_reply.started": "2024-07-14T04:22:57.603992Z"
    }
   },
   "outputs": [],
   "source": [
    "transaction_data = transaction_data \\\n",
    "    .withColumnRenamed(\"weather_main\", \"main_weather\") \\\n",
    "    .withColumnRenamed(\"weather_description\", \"weather_desc\") \\\n",
    "    .withColumnRenamed(\"temp\", \"temperature\") \\\n",
    "    .withColumnRenamed(\"temp_min\", \"min_temperature\") \\\n",
    "    .withColumnRenamed(\"temp_max\", \"max_temperature\") \\\n",
    "    .withColumnRenamed(\"feels_like\", \"feels_like_temp\") \\\n",
    "    .withColumnRenamed(\"pressure\", \"pressure_hPa\") \\\n",
    "    .withColumnRenamed(\"humidity\", \"humidity_percent\") \\\n",
    "    .withColumnRenamed(\"visibility\", \"visibility_meters\") \\\n",
    "    .withColumnRenamed(\"wind_speed\", \"wind_speed_mps\") \\\n",
    "    .withColumnRenamed(\"wind_deg\", \"wind_direction_deg\") \\\n",
    "    .withColumnRenamed(\"wind_gust\", \"wind_gust_mps\") \\\n",
    "    .withColumnRenamed(\"clouds_all\", \"cloudiness_percent\") \\\n",
    "    .withColumnRenamed(\"rain_1h\", \"rain_volume_1h_mm\") \\\n",
    "    .withColumnRenamed(\"rain_3h\", \"rain_volume_3h_mm\") \\\n",
    "    .withColumnRenamed(\"datetime\", \"timestamp\") \\\n",
    "    .withColumnRenamed(\"city_name\", \"city\")"
   ]
  },
  {
   "cell_type": "code",
   "execution_count": 31,
   "id": "340e5d83-9b2b-4270-81ed-a2fb4003f39b",
   "metadata": {
    "execution": {
     "iopub.execute_input": "2024-07-14T04:23:04.387873Z",
     "iopub.status.busy": "2024-07-14T04:23:04.387873Z",
     "iopub.status.idle": "2024-07-14T04:23:04.740630Z",
     "shell.execute_reply": "2024-07-14T04:23:04.738717Z",
     "shell.execute_reply.started": "2024-07-14T04:23:04.387873Z"
    }
   },
   "outputs": [
    {
     "name": "stdout",
     "output_type": "stream",
     "text": [
      "+--------------+------------+---------------+------------+----------------+----------------+------------------+------------+----------------+-----------------+--------------+------------------+-------------+------------------+-----------------+-----------------+-------------------+----------+\n",
      "|transaction_id|main_weather|   weather_desc|temp_celsius|temp_min_celsius|temp_max_celsius|feels_like_celsius|pressure_hPa|humidity_percent|visibility_meters|wind_speed_mps|wind_direction_deg|wind_gust_mps|cloudiness_percent|rain_volume_1h_mm|rain_volume_3h_mm|          timestamp|      city|\n",
      "+--------------+------------+---------------+------------+----------------+----------------+------------------+------------+----------------+-----------------+--------------+------------------+-------------+------------------+-----------------+-----------------+-------------------+----------+\n",
      "|             1|      Clouds|  broken clouds|       32.61|           31.81|            33.1|             36.35|        1003|              53|            10000|          2.57|               200|         NULL|                75|             NULL|             NULL|2024-07-12 14:28:01|Chiang Mai|\n",
      "|             2|      Clouds|  broken clouds|       30.25|           30.25|           30.25|             36.72|        1002|              74|            10000|           3.6|               230|         NULL|                75|             NULL|             NULL|2024-07-12 14:29:34| Khon Kaen|\n",
      "|             3|      Clouds|overcast clouds|       32.42|           32.18|            34.4|             39.42|        1005|              69|            10000|          4.47|               238|         6.68|               100|             NULL|             NULL|2024-07-12 14:29:35|   Bangrak|\n",
      "|             4|        Rain|     light rain|       27.79|           27.79|           28.08|             32.77|        1008|              88|            10000|          7.17|               286|         8.77|                85|             0.12|             NULL|2024-07-12 14:29:35| Talat Yai|\n",
      "|             5|      Clouds|  broken clouds|       32.61|           31.81|            33.1|             36.35|        1003|              53|            10000|          2.57|               200|         NULL|                75|             NULL|             NULL|2024-07-12 14:28:01|Chiang Mai|\n",
      "+--------------+------------+---------------+------------+----------------+----------------+------------------+------------+----------------+-----------------+--------------+------------------+-------------+------------------+-----------------+-----------------+-------------------+----------+\n",
      "only showing top 5 rows\n",
      "\n"
     ]
    }
   ],
   "source": [
    "transaction_data.show(5)"
   ]
  },
  {
   "cell_type": "code",
   "execution_count": null,
   "id": "b2930944-60de-45f5-b460-611359f8e786",
   "metadata": {},
   "outputs": [],
   "source": []
  }
 ],
 "metadata": {
  "kernelspec": {
   "display_name": "Python 3 (ipykernel)",
   "language": "python",
   "name": "python3"
  },
  "language_info": {
   "codemirror_mode": {
    "name": "ipython",
    "version": 3
   },
   "file_extension": ".py",
   "mimetype": "text/x-python",
   "name": "python",
   "nbconvert_exporter": "python",
   "pygments_lexer": "ipython3",
   "version": "3.11.7"
  }
 },
 "nbformat": 4,
 "nbformat_minor": 5
}
